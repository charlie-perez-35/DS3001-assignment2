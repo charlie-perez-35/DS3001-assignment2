{
  "cells": [
    {
      "cell_type": "markdown",
      "id": "13ad028b-72b7-43ed-aa78-96fd4e518040",
      "metadata": {
        "id": "13ad028b-72b7-43ed-aa78-96fd4e518040"
      },
      "source": [
        "# Assignment: Data Wrangling and Exploratory Data Analysis\n",
        "## Do Q1 and Q2, and one other question.\n",
        "`! git clone https://www.github.com/DS3001/assignment2`"
      ]
    },
    {
      "cell_type": "code",
      "source": [
        "! git clone https://www.github.com/DS3001/assignment2"
      ],
      "metadata": {
        "colab": {
          "base_uri": "https://localhost:8080/"
        },
        "id": "nMB7XCy6yH9i",
        "outputId": "073a201b-b527-4874-a076-3b5bad919cfe"
      },
      "id": "nMB7XCy6yH9i",
      "execution_count": 2,
      "outputs": [
        {
          "output_type": "stream",
          "name": "stdout",
          "text": [
            "Cloning into 'assignment2'...\n",
            "warning: redirecting to https://github.com/DS3001/assignment2.git/\n",
            "remote: Enumerating objects: 36, done.\u001b[K\n",
            "remote: Counting objects: 100% (36/36), done.\u001b[K\n",
            "remote: Compressing objects: 100% (36/36), done.\u001b[K\n",
            "remote: Total 36 (delta 9), reused 0 (delta 0), pack-reused 0\u001b[K\n",
            "Receiving objects: 100% (36/36), 5.47 MiB | 7.18 MiB/s, done.\n",
            "Resolving deltas: 100% (9/9), done.\n"
          ]
        }
      ]
    },
    {
      "cell_type": "markdown",
      "id": "5735a4d4-8be8-433a-a351-70eb8002e632",
      "metadata": {
        "id": "5735a4d4-8be8-433a-a351-70eb8002e632"
      },
      "source": [
        "**Q1.** Open the \"tidy_data.pdf\" document in the repo, which is a paper called Tidy Data by Hadley Wickham.\n",
        "\n",
        "  1. Read the abstract. What is this paper about?\n",
        "\n",
        "  This paper is about a framework for cleaning data called tidying. Tidying involves simplifying uncleaned data into tables with variables x and observations y, creating easy-to-manipulate and consistent observational units.\n",
        "\n",
        "\n",
        "  2. Read the introduction. What is the \"tidy data standard\" intended to accomplish?\n",
        "\n",
        "  The tidy data standard is intended to provide a standardized method for cleaning data, simplifying the data cleaning process and facilitating translation between the data and data manipulation tools. This enables the data scientist to spend less time on cleaning and more time on analysis.\n",
        "\n",
        "\n",
        "  3. Read the intro to section 2. What does this sentence mean: \"Like families, tidy datasets are all alike but every messy dataset is messy in its own way.\" What does this sentence mean: \"For a given dataset, it’s usually easy to figure out what are observations and what are variables, but it is surprisingly difficult to precisely define variables and observations in general.\"\n",
        "\n",
        "  First sentence: Tidy datasets have the same characteristics, so tools and functions can operate on different datasets to find meaning in the same way. Messy datasets may have different quirks, so writing functions to operate on messy datasets or cleaning them has to be done differently with each new dataset -- nothing works the same way twice.\n",
        "\n",
        "  Second sentence: The same idea as the first -- when you can generalize a function to operate on many datasets, you can accomplish a great deal more analysis in the same amount of time. However, this generalization can prove exceptionally challenging when no two datasets are quite alike, and you must examine each dataset to learn its quirks.\n",
        "\n",
        "\n",
        "  4. Read Section 2.2. How does Wickham define values, variables, and observations?\n",
        "\n",
        "  Values: the individual items that make up the dataset, variables, and observations, typically quantitative (int) or qualitative (str).\n",
        "\n",
        "  Variables: organized based on a particular underlying attribute. Contains multiple values, all of which represent a particular unit's corresponding attribute.\n",
        "\n",
        "  Observations: organized based on individual units being measured. Contains multiple values, all of which when combined make up every attribute for which the individual unit has a value.\n",
        "\n",
        "\n",
        "  5. How is \"Tidy Data\" defined in section 2.3?\n",
        "\n",
        "  Each variable makes a column, each observation makes a row, and each observational unit (such as a study) forms a table. In the ordering, fixed (known beforehand) variables should come before measured variables, with the ordering of the first variable dictating the ordering of the observations and connected variables appearing next to each other.\n",
        "\n",
        "\n",
        "  6. Read the intro to Section 3 and Section 3.1. What are the 5 most common problems with messy datasets? Why are the data in Table 4 messy? What is \"melting\" a dataset?\n",
        "\n",
        "  5 most common problems with messy datasets: (1) column headers are values, not variable names, (2) multiple variables stored in one column, (3) variables stored in both rows and columns, (4) multiple observational units in one table, (5) single observational unit in multiple tables.\n",
        "\n",
        "  Why Table 4 is messy: The variables are 'religion', 'income', and 'frequency', so it breaks (1).\n",
        "\n",
        "  \"Melting': Turning columns containing values into rows, or \"stacking\". This process is ordered based on a column that is already a variable, or \"colvar\".\n",
        "\n",
        "\n",
        "  7. Why, specifically, is table 11 messy but table 12 tidy and \"molten\"?\n",
        "\n",
        "  Table 11 is messy because the d1 etc. columns are part of the 'date' variable, which is also stored in two different columns, and the variables tmax and tmin are stored in the same column. The first problem is rectified in Table 12a, and the second is rectified in Table 12b.\n",
        "\n",
        "\n",
        "  8. Read Section 6. What is the \"chicken-and-egg\" problem with focusing on tidy data? What does Wickham hope happens in the future with further work on the subject of data wrangling?\n",
        "\n",
        "  Tidy data is only useful if you have tools designed to interact with it; because data and tools are constantly evolving, it is difficult to coordinate tidy data with tidy tools so that the tidy data framework is actually useful. Wickham hopes that at some point, it is possible to create tidy tools for dealing with multidimensional arrays, or even tidy tools that can interpret data in any form and automatically choose between dataframe-tidy and array-tidy formats."
      ]
    },
    {
      "cell_type": "markdown",
      "id": "da879ea7-8aac-48a3-b6c2-daea56d2e072",
      "metadata": {
        "id": "da879ea7-8aac-48a3-b6c2-daea56d2e072"
      },
      "source": [
        "**Q2.** This question provides some practice cleaning variables which have common problems.\n",
        "1. Numeric variable: For `./data/airbnb_hw.csv`, clean the `Price` variable as well as you can, and explain the choices you make. How many missing values do you end up with? (Hint: What happens to the formatting when a price goes over 999 dollars, say from 675 to 1,112?)\n",
        "2. Categorical variable: For the `./data/sharks.csv` data covered in the lecture, clean the \"Type\" variable as well as you can, and explain the choices you make.\n",
        "3. Dummy variable: For the pretrial data covered in the lecture, clean the `WhetherDefendantWasReleasedPretrial` variable as well as you can, and, in particular, replace missing values with `np.nan`.\n",
        "4. Missing values, not at random: For the pretrial data covered in the lecture, clean the `ImposedSentenceAllChargeInContactEvent` variable as well as you can, and explain the choices you make. (Hint: Look at the `SentenceTypeAllChargesAtConvictionInContactEvent` variable.)"
      ]
    },
    {
      "cell_type": "code",
      "source": [
        "filename = r'/content/assignment2/data/airbnb_hw.csv'\n",
        "import pandas as pd\n",
        "import numpy as np\n",
        "df = pd.read_csv(filename)\n",
        "print(df)"
      ],
      "metadata": {
        "colab": {
          "base_uri": "https://localhost:8080/"
        },
        "id": "AAtZqWROEIxc",
        "outputId": "0274d2be-2fd5-426b-8b36-914e0a169c18"
      },
      "id": "AAtZqWROEIxc",
      "execution_count": 9,
      "outputs": [
        {
          "output_type": "stream",
          "name": "stdout",
          "text": [
            "        Host Id Host Since                                Name Neighbourhood   \\\n",
            "0       5162530        NaN     1 Bedroom in Prime Williamsburg       Brooklyn   \n",
            "1      33134899        NaN     Sunny, Private room in Bushwick       Brooklyn   \n",
            "2      39608626        NaN                Sunny Room in Harlem      Manhattan   \n",
            "3           500  6/26/2008  Gorgeous 1 BR with Private Balcony      Manhattan   \n",
            "4           500  6/26/2008            Trendy Times Square Loft      Manhattan   \n",
            "...         ...        ...                                 ...            ...   \n",
            "30473  43022976  8/31/2015   10 Mins to Time Square/two floors         Queens   \n",
            "30474  42993382  8/31/2015       1BR ocean view & F,Q train st       Brooklyn   \n",
            "30475  43033067  8/31/2015                Amazing Private Room       Brooklyn   \n",
            "30476  43000991  8/31/2015   Charming private female room: UWS      Manhattan   \n",
            "30477  42999189  8/31/2015    Huge Beautiful Bedroom - Astoria         Queens   \n",
            "\n",
            "      Property Type  Review Scores Rating (bin)        Room Type  Zipcode  \\\n",
            "0         Apartment                         NaN  Entire home/apt  11249.0   \n",
            "1         Apartment                         NaN     Private room  11206.0   \n",
            "2         Apartment                         NaN     Private room  10032.0   \n",
            "3         Apartment                         NaN  Entire home/apt  10024.0   \n",
            "4         Apartment                        95.0     Private room  10036.0   \n",
            "...             ...                         ...              ...      ...   \n",
            "30473     Apartment                         NaN  Entire home/apt  11101.0   \n",
            "30474     Apartment                         NaN     Private room  11224.0   \n",
            "30475         Other                         NaN     Private room  11206.0   \n",
            "30476     Apartment                         NaN     Private room  10025.0   \n",
            "30477         House                         NaN     Private room  11105.0   \n",
            "\n",
            "       Beds  Number of Records  Number Of Reviews Price  Review Scores Rating  \n",
            "0       1.0                  1                  0   145                   NaN  \n",
            "1       1.0                  1                  1    37                   NaN  \n",
            "2       1.0                  1                  1    28                   NaN  \n",
            "3       3.0                  1                  0   199                   NaN  \n",
            "4       3.0                  1                 39   549                  96.0  \n",
            "...     ...                ...                ...   ...                   ...  \n",
            "30473   5.0                  1                  0   300                   NaN  \n",
            "30474   2.0                  1                  0   125                   NaN  \n",
            "30475   1.0                  1                  0    80                   NaN  \n",
            "30476   1.0                  1                  0    35                   NaN  \n",
            "30477   1.0                  1                  0    80                   NaN  \n",
            "\n",
            "[30478 rows x 13 columns]\n"
          ]
        }
      ]
    },
    {
      "cell_type": "code",
      "source": [
        "print(df.dtypes, '\\n')"
      ],
      "metadata": {
        "id": "XMFhUsRHFpTy",
        "outputId": "93486840-fed9-49e5-fe7e-9932ed4d8942",
        "colab": {
          "base_uri": "https://localhost:8080/"
        }
      },
      "id": "XMFhUsRHFpTy",
      "execution_count": 10,
      "outputs": [
        {
          "output_type": "stream",
          "name": "stdout",
          "text": [
            "Host Id                         int64\n",
            "Host Since                     object\n",
            "Name                           object\n",
            "Neighbourhood                  object\n",
            "Property Type                  object\n",
            "Review Scores Rating (bin)    float64\n",
            "Room Type                      object\n",
            "Zipcode                       float64\n",
            "Beds                          float64\n",
            "Number of Records               int64\n",
            "Number Of Reviews               int64\n",
            "Price                          object\n",
            "Review Scores Rating          float64\n",
            "dtype: object \n",
            "\n"
          ]
        }
      ]
    },
    {
      "cell_type": "code",
      "source": [
        "# force coercion of price variable\n",
        "# price variable needs to be a\n",
        "var = 'Price'\n",
        "print('Before coercion: \\n', df[var].describe(),'\\n')\n",
        "df[var] = pd.to_numeric(df[var], errors='coerce')\n",
        "print('After coercion: \\n', df[var].describe(),'\\n')\n",
        "df[var+'_nan'] = df[var].isnull()\n",
        "print('Total missing: \\n', sum(df[var+'_nan']),'\\n')"
      ],
      "metadata": {
        "id": "z7f-_auzF5Ae",
        "outputId": "7fa86c6d-4031-4f25-9837-d8464df3d6a0",
        "colab": {
          "base_uri": "https://localhost:8080/"
        }
      },
      "id": "z7f-_auzF5Ae",
      "execution_count": 11,
      "outputs": [
        {
          "output_type": "stream",
          "name": "stdout",
          "text": [
            "Before coercion: \n",
            " count     30478\n",
            "unique      511\n",
            "top         150\n",
            "freq       1481\n",
            "Name: Price, dtype: object \n",
            "\n",
            "After coercion: \n",
            " count    30297.000000\n",
            "mean       153.357032\n",
            "std        108.895698\n",
            "min         10.000000\n",
            "25%         80.000000\n",
            "50%        125.000000\n",
            "75%        192.000000\n",
            "max        999.000000\n",
            "Name: Price, dtype: float64 \n",
            "\n",
            "Total missing: \n",
            " 181 \n",
            "\n"
          ]
        }
      ]
    },
    {
      "cell_type": "markdown",
      "id": "c11bcd96-2834-41a4-80fe-d354b4277fd9",
      "metadata": {
        "id": "c11bcd96-2834-41a4-80fe-d354b4277fd9"
      },
      "source": [
        "**Q3.** This question provides some practice doing exploratory data analysis and visualization.\n",
        "\n",
        "The \"relevant\" variables for this question are:\n",
        "  - `level` - Level of institution (4-year, 2-year)\n",
        "  - `aid_value` - The average amount of student aid going to undergraduate recipients\n",
        "  - `control` - Public, Private not-for-profit, Private for-profit\n",
        "  - `grad_100_value` - percentage of first-time, full-time, degree-seeking undergraduates who complete a degree or certificate program within 100 percent of expected time (bachelor's-seeking group at 4-year institutions)\n",
        "\n",
        "1. Load the `./data/college_completion.csv` data with Pandas.\n",
        "2. What are are the dimensions of the data? How many observations are there? What are the variables included? Use `.head()` to examine the first few rows of data.\n",
        "3. Cross tabulate `control` and `level`. Describe the patterns you see.\n",
        "4. For `grad_100_value`, create a histogram, kernel density plot, boxplot, and statistical description.\n",
        "5. For `grad_100_value`, create a grouped kernel density plot by `control` and by `level`. Describe what you see. Use `groupby` and `.describe` to make grouped calculations of statistical descriptions of `grad_100_value` by `level` and `control`. Which institutions appear to have the best graduation rates?\n",
        "6. Create a new variable, `df['levelXcontrol']=df['level']+', '+df['control']` that interacts level and control. Make a grouped kernel density plot. Which institutions appear to have the best graduation rates?\n",
        "7. Make a kernel density plot of `aid_value`. Notice that your graph is \"bi-modal\", having two little peaks that represent locally most common values. Now group your graph by `level` and `control`. What explains the bi-modal nature of the graph? Use `groupby` and `.describe` to make grouped calculations of statistical descriptions of `aid_value` by `level` and `control`.\n",
        "8. Make a scatterplot of `grad_100_value` by `aid_value`. Describe what you see. Now make the same plot, grouping by `level` and then `control`. Describe what you see. For which kinds of institutions does aid seem to increase graduation rates?"
      ]
    },
    {
      "cell_type": "markdown",
      "id": "98d34a3b-c21d-4dc9-a8d2-fb7686804ceb",
      "metadata": {
        "id": "98d34a3b-c21d-4dc9-a8d2-fb7686804ceb"
      },
      "source": [
        "**Q4.** This question uses the Airbnb data to practice making visualizations.\n",
        "\n",
        "  1. Load the `./data/airbnb_hw.csv` data with Pandas. You should have cleaned the `Price` variable in question 2, and you'll need it later for this question.\n",
        "  2. What are are the dimensions of the data? How many observations are there? What are the variables included? Use `.head()` to examine the first few rows of data.\n",
        "  3. Cross tabulate `Room Type` and `Property Type`. What patterns do you see in what kinds of rentals are available? For which kinds of properties are private rooms more common than renting the entire property?\n",
        "  4. For `Price`, make a histogram, kernel density, box plot, and a statistical description of the variable. Are the data badly scaled? Are there many outliers? Use `log` to transform price into a new variable, `price_log`, and take these steps again.\n",
        "  5. Make a scatterplot of `price_log` and `Beds`. Describe what you see. Use `.groupby()` to compute a desciption of `Price` conditional on/grouped by the number of beds. Describe any patterns you see in the average price and standard deviation in prices.\n",
        "  6. Make a scatterplot of `price_log` and `Beds`, but color the graph by `Room Type` and `Property Type`. What patterns do you see? Compute a description of `Price` conditional on `Room Type` and `Property Type`. Which Room Type and Property Type have the highest prices on average? Which have the highest standard deviation? Does the mean or median appear to be a more reliable estimate of central tendency, and explain why?\n",
        "  7. We've looked a bit at this `price_log` and `Beds` scatterplot. Use seaborn to make a `jointplot` with `kind=hex`. Where are the data actually distributed? How does it affect the way you think about the plots in 5 and 6?"
      ]
    },
    {
      "cell_type": "markdown",
      "id": "649494cd-cfd6-4f80-992a-9994fc19e1d5",
      "metadata": {
        "id": "649494cd-cfd6-4f80-992a-9994fc19e1d5"
      },
      "source": [
        "**Q5.** Many important datasets contain a race variable, typically limited to a handful of values often including Black, White, Asian, Latino, and Indigenous. This question looks at data gathering efforts on this variable by the U.S. Federal government.\n",
        "\n",
        "1. How did the most recent US Census gather data on race?\n",
        "2. Why do we gather these data? What role do these kinds of data play in politics and society? Why does data quality matter?\n",
        "3. Please provide a constructive criticism of how the Census was conducted: What was done well? What do you think was missing? How should future large scale surveys be adjusted to best reflect the diversity of the population? Could some of the Census' good practices be adopted more widely to gather richer and more useful data?\n",
        "4. How did the Census gather data on sex and gender? Please provide a similar constructive criticism of their practices.\n",
        "5. When it comes to cleaning data, what concerns do you have about protected characteristics like sex, gender, sexual identity, or race? What challenges can you imagine arising when there are missing values? What good or bad practices might people adopt, and why?\n",
        "6. Suppose someone invented an algorithm to impute values for protected characteristics like race, gender, sex, or sexuality. What kinds of concerns would you have?"
      ]
    },
    {
      "cell_type": "markdown",
      "id": "2f38f2fd-6381-481d-bba9-017f3d363426",
      "metadata": {
        "id": "2f38f2fd-6381-481d-bba9-017f3d363426"
      },
      "source": [
        "**Q6.** Open the `./data/CBO_data.pdf` file. This contains tax data for 2019, explaining where the money comes from that the U.S. Federal Government Spends in terms of taxation on individuals/families and payroll taxes (the amount that your employer pays in taxes on your wages).\n",
        "\n",
        "For some context, the Federal government ultimately spent about $4.4 trillion in 2019, which was 21% of GDP (the total monetary value of all goods and services produced within the United States). Individual Income Taxes is the amount individuals pay on their wages to the Federal government, Corporate Income Taxes is the taxes individuals pay on capital gains from investment when they sell stock or other financial instruments, Payroll Taxes is the tax your employer pays on your wages, Excises and Customs Duties are taxes on goods or services like sin taxes on cigarettes or alcohol, and Estate and Gift Taxes are taxes paid on transfers of wealth to other people.\n",
        "\n",
        "1. Get the Millions of Families and Billions of Dollars data into a .csv file and load it with Pandas.\n",
        "2. Create a bar plot of individual income taxes by income decile. Explain what the graph shows. Why are some values negative?\n",
        "3. Create a bar plot of Total Federal Taxes by income decile. Which deciles are paying net positive amounts, and which are paying net negative amounts?\n",
        "4. Create a stacked bar plot for which Total Federal Taxes is grouped by Individual Income Taxes, Payroll Taxes, Excises and Customs Duties, and Estate and Gift Taxes. How does the share of taxes paid vary across the adjusted income deciles? (Hint: Are these the kind of data you want to melt?)\n",
        "5. Below the Total line for Millions of Families and Billions of Dollars, there are data for the richest of the richest families. Plot this alongside the bars for the deciles above the Total line. Describe your results.\n",
        "6. Get the Percent Distribution data into a .csv file and load it with Pandas. Create a bar graph of Total Federal Taxes by income decile.\n",
        "7. A tax system is progressive if higher-income and wealthier individuals pay more than lower-income and less wealthy individuals, and it is regressive if the opposite is true. Is the U.S. tax system progressive in terms of amount paid? In terms of the percentage of the overall total?\n",
        "8. Do the rich pay enough in taxes? Defend your answer."
      ]
    }
  ],
  "metadata": {
    "kernelspec": {
      "display_name": "Python 3 (ipykernel)",
      "language": "python",
      "name": "python3"
    },
    "language_info": {
      "codemirror_mode": {
        "name": "ipython",
        "version": 3
      },
      "file_extension": ".py",
      "mimetype": "text/x-python",
      "name": "python",
      "nbconvert_exporter": "python",
      "pygments_lexer": "ipython3",
      "version": "3.10.4"
    },
    "colab": {
      "provenance": []
    }
  },
  "nbformat": 4,
  "nbformat_minor": 5
}